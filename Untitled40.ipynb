{
  "nbformat": 4,
  "nbformat_minor": 0,
  "metadata": {
    "colab": {
      "provenance": []
    },
    "kernelspec": {
      "name": "python3",
      "display_name": "Python 3"
    },
    "language_info": {
      "name": "python"
    }
  },
  "cells": [
    {
      "cell_type": "code",
      "execution_count": null,
      "metadata": {
        "id": "lW3Pgi6j8OD7"
      },
      "outputs": [],
      "source": [
        "m= 0\n",
        "for contador in range(5):\n",
        "  numero= int(input(\"Digite um numero\"))\n",
        "  if numero > m:\n",
        "    m = numero\n",
        "\n",
        "print(m)"
      ]
    },
    {
      "cell_type": "code",
      "source": [
        "for contador in range(1000 , 2001):\n",
        "  if contador % 11 ==2:\n",
        "    print(contador)"
      ],
      "metadata": {
        "id": "ApPO1qnA9SVR"
      },
      "execution_count": null,
      "outputs": []
    },
    {
      "cell_type": "code",
      "source": [
        "soma= 0\n",
        "for i in range(5):\n",
        "  numero= float(input(f\"Digite 0{i+1}°numero: \"))\n",
        "  soma += numero\n",
        "  media = soma/5\n",
        "\n",
        "print(f\"A soma dos numeros é:{soma}\")\n",
        "print(f\"A soma dos numeros é:{media}\")"
      ],
      "metadata": {
        "id": "IzeO6syI9jMD"
      },
      "execution_count": null,
      "outputs": []
    },
    {
      "cell_type": "code",
      "source": [
        "numero= int(input(\"Digite um numero\"))\n",
        "for contador in range(1 , 11):\n",
        "  resultado = numero * contador\n",
        "  print(f\"{numero}*{contador}={resultado}\")"
      ],
      "metadata": {
        "id": "KeYlcutA-w9_"
      },
      "execution_count": null,
      "outputs": []
    },
    {
      "cell_type": "code",
      "source": [
        "for n1 in range(1 , 11):\n",
        "  for n2 in range(1 , 11):\n",
        "    print(f\"{n1}*{n2}={n1 * n2}\")"
      ],
      "metadata": {
        "id": "m_s_FRQN_Yw7"
      },
      "execution_count": null,
      "outputs": []
    },
    {
      "cell_type": "code",
      "source": [
        "for contador in range(1, 21):\n",
        "  print(contador)\n",
        "\n",
        "print(list(range(1 , 21)))"
      ],
      "metadata": {
        "id": "fwKZOrRQ_pzo"
      },
      "execution_count": null,
      "outputs": []
    },
    {
      "cell_type": "code",
      "source": [
        "for i in range(1 , 52):\n",
        "  if i % 2 != 0:\n",
        "    print(i)"
      ],
      "metadata": {
        "id": "mchQxi7Y_3T4"
      },
      "execution_count": null,
      "outputs": []
    },
    {
      "cell_type": "code",
      "source": [
        "n1= int(input(\"Digite um primeiro numero inteiro\"))\n",
        "n2= int(input(\"Digite um segundo numero inteiro\"))\n",
        "for i in range(n1+1 , n2):\n",
        "  print(i)"
      ],
      "metadata": {
        "id": "n4FYD1e3AElc"
      },
      "execution_count": null,
      "outputs": []
    },
    {
      "cell_type": "code",
      "source": [
        "loja1= 0\n",
        "loja2= 0\n",
        "\n",
        "for i in range(5):\n",
        "  valor= int(input(\"Digite um valor\"))\n",
        "\n",
        "loja1 += valor\n",
        "if loja1 > loja2:\n",
        " print(\"Loja1 foi superior a loja2\")\n",
        "elif loja2 > loja1:\n",
        "  print(\"Loja2 continua sendo supeior\")"
      ],
      "metadata": {
        "id": "2eNQFIkZAmZs"
      },
      "execution_count": null,
      "outputs": []
    },
    {
      "cell_type": "code",
      "source": [
        "par= 0\n",
        "impar= 0\n",
        "\n",
        "for i in range(10):\n",
        "  i= int(input(\"Digite um numero\"))\n",
        "  if i % 2 !=0:\n",
        "    impar += 1\n",
        "  if i % 2 ==0:\n",
        "    par += 1\n",
        "  print(f\"numero impares{impar} , numeros pares {par}\")\n"
      ],
      "metadata": {
        "id": "P3d4O5DPBQ6S"
      },
      "execution_count": null,
      "outputs": []
    },
    {
      "cell_type": "code",
      "source": [
        "salario= float(input(\"Digite o salario inicial do funcionario\"))\n",
        "porcentual= 0.015\n",
        "\n",
        "for i in range(1986 , 2025):\n",
        "  aumento= salario * porcentual\n",
        "  salario += aumento\n",
        "  porcentual *= 2\n",
        "  print(f\"Salario em {i} = {salario:.2f}\")"
      ],
      "metadata": {
        "colab": {
          "base_uri": "https://localhost:8080/"
        },
        "id": "yWhPBdm-CFx2",
        "outputId": "80e26b5a-b8a7-4771-d830-3fdde53a5802"
      },
      "execution_count": 42,
      "outputs": [
        {
          "output_type": "stream",
          "name": "stdout",
          "text": [
            "Digite o salario inicial do funcionario33\n",
            "Salario em 1986 = 33.49\n",
            "Salario em 1987 = 34.50\n",
            "Salario em 1988 = 36.57\n",
            "Salario em 1989 = 40.96\n",
            "Salario em 1990 = 50.79\n",
            "Salario em 1991 = 75.17\n",
            "Salario em 1992 = 147.33\n",
            "Salario em 1993 = 430.19\n",
            "Salario em 1994 = 2082.13\n",
            "Salario em 1995 = 18072.93\n",
            "Salario em 1996 = 295673.09\n",
            "Salario em 1997 = 9378750.51\n",
            "Salario em 1998 = 585609181.65\n",
            "Salario em 1999 = 72545265422.95\n",
            "Salario em 2000 = 17901269695766.89\n",
            "Salario em 2001 = 8816733350559107.00\n",
            "Salario em 2002 = 8676018286284182528.00\n",
            "Salario em 2003 = 17066422050583889313792.00\n",
            "Salario em 2004 = 67124968552474528544980992.00\n",
            "Salario em 2005 = 527959357655148981452779028480.00\n",
            "Salario em 2006 = 8304610630546737381157110011658240.00\n",
            "Salario em 2007 = 261248766506715784334373903923134070784.00\n",
            "Salario em 2008 = 16436612444079265171762006866857342328111104.00\n",
            "Salario em 2009 = 2068220916231987348027177296797722031421776723968.00\n",
            "Salario em 2010 = 520486903931045624197323715585561952131338223120023552.00\n",
            "Salario em 2011 = 261970156859575970376174299460100022760070797749303679909888.00\n",
            "Salario em 2012 = 263708056401376101807184552507389148224634388769910125517441335296.00\n",
            "Salario em 2013 = 530914706490384765670452789887191147572476567929481376317697875138052096.00\n",
            "Salario em 2014 = 2137745500922495201178992722717736116395040176540928133043104373288092989128704.00\n",
            "Salario em 2015 = 17215402788307852438811317351068850005755302639695858385615483360441528518597425496064.00\n",
            "Salario em 2016 = 277273487077588136465383023584292395706369478727835949927719849235594115916106001292921405440.00\n",
            "Salario em 2017 = 8931604470119384384143311687804561275728641963520321484608057237334176044738433054849454659533275136.00\n",
            "Salario em 2018 = 575414245431156968225614561574936874838721769937144293882095767778567327374886316505663136733212511712575488.00\n",
            "Salario em 2019 = 74141561548794340140156153557548624699588057049949581192607437375509629505348264338062793652358535519512130152824832.00\n",
            "Salario em 2020 = 19106135001728128381088075351533696073306126718065915253713326166603882462563947234292248633818769973111332709387701130887168.00\n",
            "Salario em 2021 = 9847227017352120367197293528480202399033790551106358851859173685748855356479357111462744984255951009555199414615060566666051403644928.00\n",
            "Salario em 2022 = 10150444328842822359611950569049879737104265973017636563846782769616266296254526612541799116596507827504814290463760819610721924122620354101248.00\n",
            "Salario em 2023 = 20925996697629768728259350509805599859581124368988689316383779602439987005262254352752699339284731162433145230751959313626947110229618806114001660936192.00\n",
            "Salario em 2024 = 86281412615348886699949455925166879865730824881348235224216024909321010587949855047219726321895779450794406540039854224393754577223662006062627783077436820815872.00\n"
          ]
        }
      ]
    },
    {
      "cell_type": "code",
      "source": [
        "for i in range(9999):\n",
        "  nota= int(input(\"Digite o valor de 0 a 10\"))\n",
        "  print(\"Nota valida\")\n",
        "  break\n",
        "else:\n",
        "  print(\"Nota invalida, dgite uma nota de 0 a 10\")"
      ],
      "metadata": {
        "colab": {
          "base_uri": "https://localhost:8080/"
        },
        "id": "g7mG8IwtC-kW",
        "outputId": "25103163-a644-4d78-edb4-2d9950584e4c"
      },
      "execution_count": 29,
      "outputs": [
        {
          "output_type": "stream",
          "name": "stdout",
          "text": [
            "Digite o valor de 0 a 104\n",
            "Nota valida\n"
          ]
        }
      ]
    },
    {
      "cell_type": "code",
      "source": [
        "valor= float(input(\"Digite o valor da compra: \"))\n",
        "contagem=  1\n",
        "\n",
        "if valor >= 600 and contagem:\n",
        "   reduzido= valor - 500\n",
        "   if reduzido >= 100 or contagem <= 24:\n",
        "    for x in range(9999):\n",
        "      contagem += 1\n",
        "      reduzido -= 1\n",
        "      if reduzido < 100 or contagem == 24:\n",
        "        break\n",
        "\n",
        "porcentagem= contagem/100\n",
        "desconto=  valor * porcentagem\n",
        "final= valor - desconto\n",
        "print(f\"O desconto de r${valor:.2f} ficara a partir de r${final} com {contagem:.0f}% de desconto\")"
      ],
      "metadata": {
        "colab": {
          "base_uri": "https://localhost:8080/"
        },
        "id": "kaSXwQ-eDjgf",
        "outputId": "1fad3447-cdbb-413d-b315-d95d381a1b1e"
      },
      "execution_count": 27,
      "outputs": [
        {
          "output_type": "stream",
          "name": "stdout",
          "text": [
            "Digite o valor da compra: 777\n",
            "O desconto de r$777.00 ficara a partir de r$590.52 com 24% de desconto\n"
          ]
        }
      ]
    },
    {
      "cell_type": "code",
      "source": [
        "ate15=0\n",
        "de16a30=0\n",
        "de31a45=0\n",
        "de46a60=0\n",
        "acimados61=0\n",
        "\n",
        "\n",
        "for i in range(15):\n",
        " idade= int(input(\"digite sua idade\"))\n",
        " if idade <=15:\n",
        "  ate15 += 1\n",
        " elif idade <=30:\n",
        "  de16a30 += 1\n",
        " elif idade <=45:\n",
        "  de31a45 += 1\n",
        " elif idade <=60:\n",
        "  de46a60 += 1\n",
        " else:\n",
        "  acimados61 += 1\n",
        "\n",
        "totaldepessoas= ate15 + de16a30 + de31a45 + de46a60 + acimados61\n",
        "\n",
        "porcentagemdeate15= (ate15/totaldepessoas)*100\n",
        "porcentagemacimados61= (acimados61/totaldepessoas)*100\n",
        "\n",
        "print(f\"Pessoas com até 15 anos: {ate15} , pessoa com de 16 a 30 anos: {de16a30} ,pessoas de 31 a 45 {de31a45}, Pessoa com 46 a 60 anos: {de46a60} ,  Pessoa com mas de 61 anos: {acimados61} \")\n",
        "print(f\"porcentagem das pessoa com até 15:{porcentagemdeate15}% , porcentagem de pessoas acima de 61:{porcentagemacimados61}%\")"
      ],
      "metadata": {
        "id": "6KgI0cSVKYVz"
      },
      "execution_count": null,
      "outputs": []
    },
    {
      "cell_type": "code",
      "source": [
        "base= float(input(\"Digite o numero base: \"))\n",
        "expoente= int(input(\"Digite o expoente: \"))\n",
        "\n",
        "resultado= 1\n",
        "\n",
        "for contador in range(expoente):\n",
        "  resultado *=base\n",
        "print(f\"O resultado é de {base} elevado a {expoente} é:\" , resultado)"
      ],
      "metadata": {
        "colab": {
          "base_uri": "https://localhost:8080/"
        },
        "id": "g4X5d2NDKZ1K",
        "outputId": "baf9cc5f-6147-48c5-d929-e95b1a7010ed"
      },
      "execution_count": 34,
      "outputs": [
        {
          "output_type": "stream",
          "name": "stdout",
          "text": [
            "Digite o numero base: 25\n",
            "Digite o expoente: 5\n",
            "O resultado é de 25.0 elevado a 5 é: 9765625.0\n"
          ]
        }
      ]
    },
    {
      "cell_type": "code",
      "source": [
        "n= int(input(\"Digite um numero: \"))\n",
        "\n",
        "for numerotestado in range(1 , n+1):\n",
        "  for numerodivisor in range(numerotestado):\n",
        "    print(f\"{numerotestado}/{numerodivisor+1} = {numerotestado%(numerodivisor+1)}\")\n",
        "    if numerotestado % (numerodivisor+1) == 0:\n",
        "     if 1 != numerodivisor+1 != numerotestado:\n",
        "      print(\"Não é da minha tia\")\n",
        "      break\n",
        "    elif numerodivisor+1 == numerotestado:\n",
        "      print(\"é primo\")"
      ],
      "metadata": {
        "id": "DYFog0nZLgLJ"
      },
      "execution_count": null,
      "outputs": []
    }
  ]
}